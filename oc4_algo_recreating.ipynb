{
  "nbformat": 4,
  "nbformat_minor": 0,
  "metadata": {
    "colab": {
      "name": "oc4_algo_recreating.ipynb",
      "provenance": [],
      "authorship_tag": "ABX9TyNrfcwkSA7fADUxmJNjSkK/",
      "include_colab_link": true
    },
    "kernelspec": {
      "name": "python3",
      "display_name": "Python 3"
    }
  },
  "cells": [
    {
      "cell_type": "markdown",
      "metadata": {
        "id": "view-in-github",
        "colab_type": "text"
      },
      "source": [
        "<a href=\"https://colab.research.google.com/github/marrs-lab/ocean_color/blob/main/oc4_algo_recreating.ipynb\" target=\"_parent\"><img src=\"https://colab.research.google.com/assets/colab-badge.svg\" alt=\"Open In Colab\"/></a>"
      ]
    },
    {
      "cell_type": "markdown",
      "metadata": {
        "id": "rhwGblZ0kom1"
      },
      "source": [
        "## NASA OC4 Algorithm from NOMAD\n",
        "\n",
        "This notebook aims to recreate the OC4 ocean color band ratio algorithm from NASA's chlorophyll ATBD (https://oceancolor.gsfc.nasa.gov/atbd/chlor_a). The most current of the OCx algorithm series which was first outlined in O'Reilly et al's *Ocean color chlorophyll algorithms for SeaWiFS*. https://doi.org/10.1029/98JC02160\n",
        "\n",
        "Author of this notebook is Patrick Gray (patrick.c.gray@duke.edu) at the Duke University Marine Lab in the Marine Robotics and Remote Sensing Lab (http://marineuas.net/)."
      ]
    },
    {
      "cell_type": "code",
      "metadata": {
        "id": "ubYDdP2-KO-2"
      },
      "source": [
        "import numpy as np\n",
        "import matplotlib.pyplot as plt\n",
        "import pandas as pd\n",
        "import operator\n",
        "\n",
        "from sklearn.linear_model import LinearRegression\n",
        "from sklearn.preprocessing import PolynomialFeatures\n",
        "from sklearn.metrics import mean_squared_error, r2_score"
      ],
      "execution_count": 1,
      "outputs": []
    },
    {
      "cell_type": "markdown",
      "metadata": {
        "id": "cz1ATt6P-qq5"
      },
      "source": [
        "Pull in the NOMAD dataset\n",
        "\n",
        "This is just the NOMAD dataset but with all the header removed except the column names"
      ]
    },
    {
      "cell_type": "code",
      "metadata": {
        "colab": {
          "base_uri": "https://localhost:8080/",
          "height": 297
        },
        "id": "cHZsvm34RN65",
        "outputId": "d6ed5cea-7ff9-409c-8531-7c051b25a66c"
      },
      "source": [
        "df = pd.read_csv('https://seabass.gsfc.nasa.gov/wiki/NOMAD/nomad_seabass_v2.a_2008200.txt', skiprows=list(range(0,88)) + [89,90])\n",
        "df = df.rename(columns={'/fields=year': 'year'})\n",
        "\n",
        "print(df.shape)\n",
        "df.head()"
      ],
      "execution_count": 2,
      "outputs": [
        {
          "output_type": "stream",
          "text": [
            "(4459, 217)\n"
          ],
          "name": "stdout"
        },
        {
          "output_type": "execute_result",
          "data": {
            "text/html": [
              "<div>\n",
              "<style scoped>\n",
              "    .dataframe tbody tr th:only-of-type {\n",
              "        vertical-align: middle;\n",
              "    }\n",
              "\n",
              "    .dataframe tbody tr th {\n",
              "        vertical-align: top;\n",
              "    }\n",
              "\n",
              "    .dataframe thead th {\n",
              "        text-align: right;\n",
              "    }\n",
              "</style>\n",
              "<table border=\"1\" class=\"dataframe\">\n",
              "  <thead>\n",
              "    <tr style=\"text-align: right;\">\n",
              "      <th></th>\n",
              "      <th>year</th>\n",
              "      <th>month</th>\n",
              "      <th>day</th>\n",
              "      <th>hour</th>\n",
              "      <th>minute</th>\n",
              "      <th>second</th>\n",
              "      <th>lat</th>\n",
              "      <th>lon</th>\n",
              "      <th>id</th>\n",
              "      <th>oisst</th>\n",
              "      <th>etopo2</th>\n",
              "      <th>chl</th>\n",
              "      <th>chl_a</th>\n",
              "      <th>kd405</th>\n",
              "      <th>kd411</th>\n",
              "      <th>kd443</th>\n",
              "      <th>kd455</th>\n",
              "      <th>kd465</th>\n",
              "      <th>kd489</th>\n",
              "      <th>kd510</th>\n",
              "      <th>kd520</th>\n",
              "      <th>kd530</th>\n",
              "      <th>kd550</th>\n",
              "      <th>kd555</th>\n",
              "      <th>kd560</th>\n",
              "      <th>kd565</th>\n",
              "      <th>kd570</th>\n",
              "      <th>kd590</th>\n",
              "      <th>kd619</th>\n",
              "      <th>kd625</th>\n",
              "      <th>kd665</th>\n",
              "      <th>kd670</th>\n",
              "      <th>kd683</th>\n",
              "      <th>lw405</th>\n",
              "      <th>lw411</th>\n",
              "      <th>lw443</th>\n",
              "      <th>lw455</th>\n",
              "      <th>lw465</th>\n",
              "      <th>lw489</th>\n",
              "      <th>lw510</th>\n",
              "      <th>...</th>\n",
              "      <th>bbr510</th>\n",
              "      <th>bbr514</th>\n",
              "      <th>bbr532</th>\n",
              "      <th>bbr550</th>\n",
              "      <th>bbr555</th>\n",
              "      <th>bbr589</th>\n",
              "      <th>bbr620</th>\n",
              "      <th>bbr671</th>\n",
              "      <th>bbr676</th>\n",
              "      <th>bbr870</th>\n",
              "      <th>wt</th>\n",
              "      <th>sal</th>\n",
              "      <th>poc</th>\n",
              "      <th>kpar</th>\n",
              "      <th>z_37</th>\n",
              "      <th>z_10</th>\n",
              "      <th>z_01</th>\n",
              "      <th>chlide_a</th>\n",
              "      <th>mv_chl_a</th>\n",
              "      <th>dv_chl_a</th>\n",
              "      <th>chl_c3</th>\n",
              "      <th>chl_c2</th>\n",
              "      <th>chl_c1c2</th>\n",
              "      <th>perid</th>\n",
              "      <th>but-fuco</th>\n",
              "      <th>hex-fuco</th>\n",
              "      <th>fuco</th>\n",
              "      <th>pras</th>\n",
              "      <th>viola</th>\n",
              "      <th>diadino</th>\n",
              "      <th>allo</th>\n",
              "      <th>diato</th>\n",
              "      <th>lut</th>\n",
              "      <th>zea</th>\n",
              "      <th>chl_b</th>\n",
              "      <th>beta-car</th>\n",
              "      <th>alpha-car</th>\n",
              "      <th>alpha-beta-car</th>\n",
              "      <th>flag</th>\n",
              "      <th>cruise</th>\n",
              "    </tr>\n",
              "  </thead>\n",
              "  <tbody>\n",
              "    <tr>\n",
              "      <th>0</th>\n",
              "      <td>2003</td>\n",
              "      <td>4</td>\n",
              "      <td>15</td>\n",
              "      <td>15</td>\n",
              "      <td>15</td>\n",
              "      <td>0</td>\n",
              "      <td>38.4279</td>\n",
              "      <td>-76.61</td>\n",
              "      <td>1565</td>\n",
              "      <td>3.70</td>\n",
              "      <td>0.0</td>\n",
              "      <td>38.19</td>\n",
              "      <td>-999.0</td>\n",
              "      <td>-999.0</td>\n",
              "      <td>3.9455</td>\n",
              "      <td>3.1457</td>\n",
              "      <td>2.9253</td>\n",
              "      <td>-999.0</td>\n",
              "      <td>2.1736</td>\n",
              "      <td>1.8802</td>\n",
              "      <td>-999.0</td>\n",
              "      <td>1.5514</td>\n",
              "      <td>-999.0</td>\n",
              "      <td>1.2106</td>\n",
              "      <td>-999.0</td>\n",
              "      <td>1.1004</td>\n",
              "      <td>-999.0</td>\n",
              "      <td>1.0474</td>\n",
              "      <td>-999.0</td>\n",
              "      <td>1.2063</td>\n",
              "      <td>-999.0</td>\n",
              "      <td>1.7324</td>\n",
              "      <td>1.6464</td>\n",
              "      <td>-999.0</td>\n",
              "      <td>0.129962</td>\n",
              "      <td>0.204331</td>\n",
              "      <td>0.299114</td>\n",
              "      <td>-999.0</td>\n",
              "      <td>0.452029</td>\n",
              "      <td>0.541019</td>\n",
              "      <td>...</td>\n",
              "      <td>-999.0</td>\n",
              "      <td>-999.0</td>\n",
              "      <td>-999.0</td>\n",
              "      <td>-999.0</td>\n",
              "      <td>-999.0</td>\n",
              "      <td>-999.0</td>\n",
              "      <td>-999.0</td>\n",
              "      <td>-999.0</td>\n",
              "      <td>-999.0</td>\n",
              "      <td>-999</td>\n",
              "      <td>-999.0</td>\n",
              "      <td>-999.0</td>\n",
              "      <td>-999.0</td>\n",
              "      <td>-999.0</td>\n",
              "      <td>-999.0</td>\n",
              "      <td>-999.0</td>\n",
              "      <td>-999.0</td>\n",
              "      <td>-999.0</td>\n",
              "      <td>-999.0</td>\n",
              "      <td>-999.0</td>\n",
              "      <td>-999.0</td>\n",
              "      <td>-999.0</td>\n",
              "      <td>-999.0</td>\n",
              "      <td>-999.0</td>\n",
              "      <td>-999.0</td>\n",
              "      <td>-999.0</td>\n",
              "      <td>-999.0</td>\n",
              "      <td>-999.0</td>\n",
              "      <td>-999.0</td>\n",
              "      <td>-999.0</td>\n",
              "      <td>-999.0</td>\n",
              "      <td>-999.0</td>\n",
              "      <td>-999.0</td>\n",
              "      <td>-999.0</td>\n",
              "      <td>-999.0</td>\n",
              "      <td>-999.0</td>\n",
              "      <td>-999.0</td>\n",
              "      <td>-999.0</td>\n",
              "      <td>20691</td>\n",
              "      <td>ace0301</td>\n",
              "    </tr>\n",
              "    <tr>\n",
              "      <th>1</th>\n",
              "      <td>2003</td>\n",
              "      <td>4</td>\n",
              "      <td>15</td>\n",
              "      <td>16</td>\n",
              "      <td>50</td>\n",
              "      <td>0</td>\n",
              "      <td>38.3680</td>\n",
              "      <td>-76.50</td>\n",
              "      <td>1566</td>\n",
              "      <td>3.70</td>\n",
              "      <td>0.0</td>\n",
              "      <td>35.01</td>\n",
              "      <td>-999.0</td>\n",
              "      <td>-999.0</td>\n",
              "      <td>2.5637</td>\n",
              "      <td>2.0529</td>\n",
              "      <td>1.8386</td>\n",
              "      <td>-999.0</td>\n",
              "      <td>1.4397</td>\n",
              "      <td>1.2342</td>\n",
              "      <td>-999.0</td>\n",
              "      <td>1.0148</td>\n",
              "      <td>-999.0</td>\n",
              "      <td>0.8371</td>\n",
              "      <td>-999.0</td>\n",
              "      <td>0.7567</td>\n",
              "      <td>-999.0</td>\n",
              "      <td>0.7277</td>\n",
              "      <td>-999.0</td>\n",
              "      <td>0.9150</td>\n",
              "      <td>-999.0</td>\n",
              "      <td>1.3909</td>\n",
              "      <td>1.3261</td>\n",
              "      <td>-999.0</td>\n",
              "      <td>0.120886</td>\n",
              "      <td>0.177228</td>\n",
              "      <td>0.242677</td>\n",
              "      <td>-999.0</td>\n",
              "      <td>0.315395</td>\n",
              "      <td>0.352306</td>\n",
              "      <td>...</td>\n",
              "      <td>-999.0</td>\n",
              "      <td>-999.0</td>\n",
              "      <td>-999.0</td>\n",
              "      <td>-999.0</td>\n",
              "      <td>-999.0</td>\n",
              "      <td>-999.0</td>\n",
              "      <td>-999.0</td>\n",
              "      <td>-999.0</td>\n",
              "      <td>-999.0</td>\n",
              "      <td>-999</td>\n",
              "      <td>-999.0</td>\n",
              "      <td>-999.0</td>\n",
              "      <td>-999.0</td>\n",
              "      <td>-999.0</td>\n",
              "      <td>-999.0</td>\n",
              "      <td>-999.0</td>\n",
              "      <td>-999.0</td>\n",
              "      <td>-999.0</td>\n",
              "      <td>-999.0</td>\n",
              "      <td>-999.0</td>\n",
              "      <td>-999.0</td>\n",
              "      <td>-999.0</td>\n",
              "      <td>-999.0</td>\n",
              "      <td>-999.0</td>\n",
              "      <td>-999.0</td>\n",
              "      <td>-999.0</td>\n",
              "      <td>-999.0</td>\n",
              "      <td>-999.0</td>\n",
              "      <td>-999.0</td>\n",
              "      <td>-999.0</td>\n",
              "      <td>-999.0</td>\n",
              "      <td>-999.0</td>\n",
              "      <td>-999.0</td>\n",
              "      <td>-999.0</td>\n",
              "      <td>-999.0</td>\n",
              "      <td>-999.0</td>\n",
              "      <td>-999.0</td>\n",
              "      <td>-999.0</td>\n",
              "      <td>20675</td>\n",
              "      <td>ace0301</td>\n",
              "    </tr>\n",
              "    <tr>\n",
              "      <th>2</th>\n",
              "      <td>2003</td>\n",
              "      <td>4</td>\n",
              "      <td>15</td>\n",
              "      <td>17</td>\n",
              "      <td>50</td>\n",
              "      <td>0</td>\n",
              "      <td>38.3074</td>\n",
              "      <td>-76.44</td>\n",
              "      <td>1567</td>\n",
              "      <td>3.70</td>\n",
              "      <td>1.0</td>\n",
              "      <td>26.91</td>\n",
              "      <td>-999.0</td>\n",
              "      <td>-999.0</td>\n",
              "      <td>2.1533</td>\n",
              "      <td>1.7531</td>\n",
              "      <td>1.6641</td>\n",
              "      <td>-999.0</td>\n",
              "      <td>1.2676</td>\n",
              "      <td>1.0893</td>\n",
              "      <td>-999.0</td>\n",
              "      <td>0.9170</td>\n",
              "      <td>-999.0</td>\n",
              "      <td>0.7240</td>\n",
              "      <td>-999.0</td>\n",
              "      <td>0.6587</td>\n",
              "      <td>-999.0</td>\n",
              "      <td>0.6482</td>\n",
              "      <td>-999.0</td>\n",
              "      <td>0.8208</td>\n",
              "      <td>-999.0</td>\n",
              "      <td>1.2360</td>\n",
              "      <td>1.1967</td>\n",
              "      <td>-999.0</td>\n",
              "      <td>0.111049</td>\n",
              "      <td>0.151807</td>\n",
              "      <td>0.192820</td>\n",
              "      <td>-999.0</td>\n",
              "      <td>0.269218</td>\n",
              "      <td>0.326515</td>\n",
              "      <td>...</td>\n",
              "      <td>-999.0</td>\n",
              "      <td>-999.0</td>\n",
              "      <td>-999.0</td>\n",
              "      <td>-999.0</td>\n",
              "      <td>-999.0</td>\n",
              "      <td>-999.0</td>\n",
              "      <td>-999.0</td>\n",
              "      <td>-999.0</td>\n",
              "      <td>-999.0</td>\n",
              "      <td>-999</td>\n",
              "      <td>-999.0</td>\n",
              "      <td>-999.0</td>\n",
              "      <td>-999.0</td>\n",
              "      <td>-999.0</td>\n",
              "      <td>-999.0</td>\n",
              "      <td>-999.0</td>\n",
              "      <td>-999.0</td>\n",
              "      <td>-999.0</td>\n",
              "      <td>-999.0</td>\n",
              "      <td>-999.0</td>\n",
              "      <td>-999.0</td>\n",
              "      <td>-999.0</td>\n",
              "      <td>-999.0</td>\n",
              "      <td>-999.0</td>\n",
              "      <td>-999.0</td>\n",
              "      <td>-999.0</td>\n",
              "      <td>-999.0</td>\n",
              "      <td>-999.0</td>\n",
              "      <td>-999.0</td>\n",
              "      <td>-999.0</td>\n",
              "      <td>-999.0</td>\n",
              "      <td>-999.0</td>\n",
              "      <td>-999.0</td>\n",
              "      <td>-999.0</td>\n",
              "      <td>-999.0</td>\n",
              "      <td>-999.0</td>\n",
              "      <td>-999.0</td>\n",
              "      <td>-999.0</td>\n",
              "      <td>20691</td>\n",
              "      <td>ace0301</td>\n",
              "    </tr>\n",
              "    <tr>\n",
              "      <th>3</th>\n",
              "      <td>2003</td>\n",
              "      <td>4</td>\n",
              "      <td>17</td>\n",
              "      <td>18</td>\n",
              "      <td>15</td>\n",
              "      <td>0</td>\n",
              "      <td>38.6367</td>\n",
              "      <td>-76.32</td>\n",
              "      <td>1568</td>\n",
              "      <td>3.70</td>\n",
              "      <td>3.0</td>\n",
              "      <td>47.96</td>\n",
              "      <td>-999.0</td>\n",
              "      <td>-999.0</td>\n",
              "      <td>2.6900</td>\n",
              "      <td>2.2985</td>\n",
              "      <td>2.1297</td>\n",
              "      <td>-999.0</td>\n",
              "      <td>1.6130</td>\n",
              "      <td>1.4441</td>\n",
              "      <td>-999.0</td>\n",
              "      <td>1.2004</td>\n",
              "      <td>-999.0</td>\n",
              "      <td>0.9776</td>\n",
              "      <td>-999.0</td>\n",
              "      <td>0.8857</td>\n",
              "      <td>-999.0</td>\n",
              "      <td>0.8577</td>\n",
              "      <td>-999.0</td>\n",
              "      <td>1.0546</td>\n",
              "      <td>-999.0</td>\n",
              "      <td>1.5950</td>\n",
              "      <td>1.5343</td>\n",
              "      <td>-999.0</td>\n",
              "      <td>0.051578</td>\n",
              "      <td>0.066430</td>\n",
              "      <td>0.092185</td>\n",
              "      <td>-999.0</td>\n",
              "      <td>0.121242</td>\n",
              "      <td>0.148580</td>\n",
              "      <td>...</td>\n",
              "      <td>-999.0</td>\n",
              "      <td>-999.0</td>\n",
              "      <td>-999.0</td>\n",
              "      <td>-999.0</td>\n",
              "      <td>-999.0</td>\n",
              "      <td>-999.0</td>\n",
              "      <td>-999.0</td>\n",
              "      <td>-999.0</td>\n",
              "      <td>-999.0</td>\n",
              "      <td>-999</td>\n",
              "      <td>-999.0</td>\n",
              "      <td>-999.0</td>\n",
              "      <td>-999.0</td>\n",
              "      <td>-999.0</td>\n",
              "      <td>-999.0</td>\n",
              "      <td>-999.0</td>\n",
              "      <td>-999.0</td>\n",
              "      <td>-999.0</td>\n",
              "      <td>-999.0</td>\n",
              "      <td>-999.0</td>\n",
              "      <td>-999.0</td>\n",
              "      <td>-999.0</td>\n",
              "      <td>-999.0</td>\n",
              "      <td>-999.0</td>\n",
              "      <td>-999.0</td>\n",
              "      <td>-999.0</td>\n",
              "      <td>-999.0</td>\n",
              "      <td>-999.0</td>\n",
              "      <td>-999.0</td>\n",
              "      <td>-999.0</td>\n",
              "      <td>-999.0</td>\n",
              "      <td>-999.0</td>\n",
              "      <td>-999.0</td>\n",
              "      <td>-999.0</td>\n",
              "      <td>-999.0</td>\n",
              "      <td>-999.0</td>\n",
              "      <td>-999.0</td>\n",
              "      <td>-999.0</td>\n",
              "      <td>20675</td>\n",
              "      <td>ace0301</td>\n",
              "    </tr>\n",
              "    <tr>\n",
              "      <th>4</th>\n",
              "      <td>2003</td>\n",
              "      <td>7</td>\n",
              "      <td>21</td>\n",
              "      <td>18</td>\n",
              "      <td>27</td>\n",
              "      <td>0</td>\n",
              "      <td>38.3047</td>\n",
              "      <td>-76.44</td>\n",
              "      <td>1559</td>\n",
              "      <td>22.03</td>\n",
              "      <td>1.0</td>\n",
              "      <td>23.55</td>\n",
              "      <td>-999.0</td>\n",
              "      <td>-999.0</td>\n",
              "      <td>3.0950</td>\n",
              "      <td>2.3966</td>\n",
              "      <td>2.1689</td>\n",
              "      <td>-999.0</td>\n",
              "      <td>1.6452</td>\n",
              "      <td>1.3757</td>\n",
              "      <td>-999.0</td>\n",
              "      <td>1.1533</td>\n",
              "      <td>-999.0</td>\n",
              "      <td>0.9311</td>\n",
              "      <td>-999.0</td>\n",
              "      <td>0.8597</td>\n",
              "      <td>-999.0</td>\n",
              "      <td>0.8625</td>\n",
              "      <td>-999.0</td>\n",
              "      <td>1.0355</td>\n",
              "      <td>-999.0</td>\n",
              "      <td>1.2731</td>\n",
              "      <td>1.2541</td>\n",
              "      <td>-999.0</td>\n",
              "      <td>0.056001</td>\n",
              "      <td>0.068530</td>\n",
              "      <td>0.090152</td>\n",
              "      <td>-999.0</td>\n",
              "      <td>0.108838</td>\n",
              "      <td>0.132581</td>\n",
              "      <td>...</td>\n",
              "      <td>-999.0</td>\n",
              "      <td>-999.0</td>\n",
              "      <td>-999.0</td>\n",
              "      <td>-999.0</td>\n",
              "      <td>-999.0</td>\n",
              "      <td>-999.0</td>\n",
              "      <td>-999.0</td>\n",
              "      <td>-999.0</td>\n",
              "      <td>-999.0</td>\n",
              "      <td>-999</td>\n",
              "      <td>-999.0</td>\n",
              "      <td>-999.0</td>\n",
              "      <td>-999.0</td>\n",
              "      <td>-999.0</td>\n",
              "      <td>-999.0</td>\n",
              "      <td>-999.0</td>\n",
              "      <td>-999.0</td>\n",
              "      <td>-999.0</td>\n",
              "      <td>-999.0</td>\n",
              "      <td>-999.0</td>\n",
              "      <td>-999.0</td>\n",
              "      <td>-999.0</td>\n",
              "      <td>-999.0</td>\n",
              "      <td>-999.0</td>\n",
              "      <td>-999.0</td>\n",
              "      <td>-999.0</td>\n",
              "      <td>-999.0</td>\n",
              "      <td>-999.0</td>\n",
              "      <td>-999.0</td>\n",
              "      <td>-999.0</td>\n",
              "      <td>-999.0</td>\n",
              "      <td>-999.0</td>\n",
              "      <td>-999.0</td>\n",
              "      <td>-999.0</td>\n",
              "      <td>-999.0</td>\n",
              "      <td>-999.0</td>\n",
              "      <td>-999.0</td>\n",
              "      <td>-999.0</td>\n",
              "      <td>20691</td>\n",
              "      <td>ace0302</td>\n",
              "    </tr>\n",
              "  </tbody>\n",
              "</table>\n",
              "<p>5 rows × 217 columns</p>\n",
              "</div>"
            ],
            "text/plain": [
              "   year  month  day  hour  ...  alpha-car  alpha-beta-car   flag   cruise\n",
              "0  2003      4   15    15  ...     -999.0          -999.0  20691  ace0301\n",
              "1  2003      4   15    16  ...     -999.0          -999.0  20675  ace0301\n",
              "2  2003      4   15    17  ...     -999.0          -999.0  20691  ace0301\n",
              "3  2003      4   17    18  ...     -999.0          -999.0  20675  ace0301\n",
              "4  2003      7   21    18  ...     -999.0          -999.0  20691  ace0302\n",
              "\n",
              "[5 rows x 217 columns]"
            ]
          },
          "metadata": {
            "tags": []
          },
          "execution_count": 2
        }
      ]
    },
    {
      "cell_type": "markdown",
      "metadata": {
        "id": "bbYkEW50-tLm"
      },
      "source": [
        "Assign the specific wavelengths we'll be using as well as the blue band maximum, a merged HPLC and fluorometric chla field, and then filter out any fields with missing data."
      ]
    },
    {
      "cell_type": "code",
      "metadata": {
        "colab": {
          "base_uri": "https://localhost:8080/"
        },
        "id": "5dTtfFpB5acL",
        "outputId": "a0f6e88b-1b08-459e-ce87-b6982394432b"
      },
      "source": [
        "# blue_lw =   'lw489'\n",
        "# blue_es =   'es489'\n",
        "# blue_rrs =  'rrs489'\n",
        "\n",
        "blue_rrs = 'blue_rrs'\n",
        "\n",
        "lw_443 = 'lw443'\n",
        "es_443 = 'es443'\n",
        "rrs_443 = 'rrs443'\n",
        "\n",
        "lw_510 = 'lw510'\n",
        "es_510 = 'es510'\n",
        "rrs_510 = 'rrs510'\n",
        "\n",
        "lw_489 = 'lw489'\n",
        "es_489 = 'es489'\n",
        "rrs_489 = 'rrs489'\n",
        "\n",
        "green_lw =  'lw560'\n",
        "green_es =  'es560'\n",
        "green_rrs = 'rrs560'\n",
        "\n",
        "red_lw =    'lw670'\n",
        "red_es =    'es670'\n",
        "red_rrs =   'rrs670'\n",
        "\n",
        "\n",
        "def chl_fcn(row):\n",
        "  if row['chl_a'] != -999 :\n",
        "    return (row['chl_a']) # HPLC\n",
        "  else:\n",
        "    return (row['chl']) # flu\n",
        "\n",
        "df['chl_merge'] = df.apply(lambda row: chl_fcn(row), axis=1)\n",
        "\n",
        "# whether to use only HPLC or merged chl\n",
        "# Hu et al 2012 only use HPLC which is chl_a\n",
        "chl = 'chl_merge' # 'chl_merge'\n",
        "\n",
        "# make a copy to subset\n",
        "df_chl = df.copy()\n",
        "\n",
        "# create the rrs columns\n",
        "df_chl[rrs_443] = df_chl[lw_443]/df_chl[es_443]\n",
        "df_chl[rrs_489] = df_chl[lw_489]/df_chl[es_489]\n",
        "df_chl[rrs_510] = df_chl[lw_510]/df_chl[es_510]\n",
        "\n",
        "df_chl[green_rrs] = df_chl[green_lw]/df_chl[green_es]\n",
        "df_chl[red_rrs] = df_chl[red_lw]/df_chl[red_es]\n",
        "\n",
        "# subset it to delete any measurements that are missing\n",
        "df_chl = df_chl[df_chl['lw443'] != -999]\n",
        "df_chl = df_chl[df_chl['lw555'] != -999]\n",
        "#df_chl = df_chl[df_chl['lw670'] != -999]\n",
        "df_chl = df_chl[df_chl['es443'] != -999]\n",
        "df_chl = df_chl[df_chl['es555'] != -999]\n",
        "#df_chl = df_chl[df_chl['es670'] != -999]\n",
        "#df_chl = df_chl[df_chl['lat'] != -999]\n",
        "df_chl = df_chl[df_chl['etopo2'] != -999]\n",
        "#df_chl = df_chl[df_chl['lw411'] != -999]\n",
        "#df_chl = df_chl[df_chl['es411'] != -999]\n",
        "df_chl = df_chl[df_chl['lw489'] != -999]\n",
        "df_chl = df_chl[df_chl['es489'] != -999]\n",
        "df_chl = df_chl[df_chl['lw510'] != -999]\n",
        "df_chl = df_chl[df_chl['es510'] != -999]\n",
        "\n",
        "df_chl = df_chl[df_chl['lw560'] != -999]\n",
        "df_chl = df_chl[df_chl['es560'] != -999]\n",
        "\n",
        "def blue_fcn(row):\n",
        "  #my_list = [row[rrs_443], row[rrs_489], row[rrs_510]]\n",
        "  my_list = [row[rrs_489]]\n",
        "  max_value = max(my_list)\n",
        "  return (max_value)\n",
        "\n",
        "df_chl[blue_rrs] = df_chl.apply(lambda row: blue_fcn(row), axis=1)\n",
        "\n",
        "df_chl = df_chl[df_chl[chl] != -999]\n",
        "\n",
        "#df_chl = df_chl[df_chl[blue_rrs] > 0]\n",
        "#df_chl = df_chl[df_chl[green_rrs] > 0]\n",
        "\n",
        "#df_chl = df_chl[df_chl[chl] < 50]\n",
        "\n",
        "#df_chl = df_chl[df_chl[chl] > .05]\n",
        "\n",
        "# subset to only rows that were deeper than x meters\n",
        "#df_chl = df_chl[df_chl['etopo2'] > 5]\n",
        "\n",
        "# subset to lat between 60N and 60S\n",
        "#df_chl = df_chl[(df_chl['lat'] < 60) & (df_chl['lat'] > -60)]\n",
        "\n",
        "print(\"Number of rows remaning after filters: \", len(df_chl))"
      ],
      "execution_count": 37,
      "outputs": [
        {
          "output_type": "stream",
          "text": [
            "Number of rows remaning after filters:  756\n"
          ],
          "name": "stdout"
        }
      ]
    },
    {
      "cell_type": "code",
      "metadata": {
        "id": "5VAL2zhN5FMJ"
      },
      "source": [
        "#df = df.replace(-999, np.nan)"
      ],
      "execution_count": 38,
      "outputs": []
    },
    {
      "cell_type": "code",
      "metadata": {
        "colab": {
          "base_uri": "https://localhost:8080/",
          "height": 297
        },
        "id": "yOWMYaHtRb6X",
        "outputId": "706dc5f9-5ad1-44fc-ac12-c400bef6d3e2"
      },
      "source": [
        "fig,ax = plt.subplots()\n",
        "\n",
        "df_chl.plot(ax=ax, kind='scatter',x=chl, y='lat')\n",
        "ax.set_xlim(-1,20)"
      ],
      "execution_count": 39,
      "outputs": [
        {
          "output_type": "execute_result",
          "data": {
            "text/plain": [
              "(-1.0, 20.0)"
            ]
          },
          "metadata": {
            "tags": []
          },
          "execution_count": 39
        },
        {
          "output_type": "display_data",
          "data": {
            "image/png": "[encoded data removed]",
            "text/plain": [
              "<Figure size 432x288 with 1 Axes>"
            ]
          },
          "metadata": {
            "tags": [],
            "needs_background": "light"
          }
        }
      ]
    },
    {
      "cell_type": "code",
      "metadata": {
        "colab": {
          "base_uri": "https://localhost:8080/",
          "height": 316
        },
        "id": "JzOg3gpCANs1",
        "outputId": "709fb37d-5681-447a-de69-d5fff4294766"
      },
      "source": [
        "fig,ax = plt.subplots()\n",
        "df_chl.hist(blue_rrs, bins=30,ax=ax, color='blue', alpha=0.7)\n",
        "df_chl.hist(green_rrs, bins=30,ax=ax, color='green', alpha=0.7)"
      ],
      "execution_count": 40,
      "outputs": [
        {
          "output_type": "execute_result",
          "data": {
            "text/plain": [
              "array([<matplotlib.axes._subplots.AxesSubplot object at 0x7f13051abf10>],\n",
              "      dtype=object)"
            ]
          },
          "metadata": {
            "tags": []
          },
          "execution_count": 40
        },
        {
          "output_type": "display_data",
          "data": {
            "image/png": "[encoded data removed]",
            "text/plain": [
              "<Figure size 432x288 with 1 Axes>"
            ]
          },
          "metadata": {
            "tags": [],
            "needs_background": "light"
          }
        }
      ]
    },
    {
      "cell_type": "code",
      "metadata": {
        "colab": {
          "base_uri": "https://localhost:8080/",
          "height": 316
        },
        "id": "Q29M1bds4w2t",
        "outputId": "d491be12-2008-4eab-d66d-d9209d6f2f39"
      },
      "source": [
        "df_chl.hist(chl, bins=30)"
      ],
      "execution_count": 41,
      "outputs": [
        {
          "output_type": "execute_result",
          "data": {
            "text/plain": [
              "array([[<matplotlib.axes._subplots.AxesSubplot object at 0x7f1303288e10>]],\n",
              "      dtype=object)"
            ]
          },
          "metadata": {
            "tags": []
          },
          "execution_count": 41
        },
        {
          "output_type": "display_data",
          "data": {
            "image/png": "[encoded data removed]",
            "text/plain": [
              "<Figure size 432x288 with 1 Axes>"
            ]
          },
          "metadata": {
            "tags": [],
            "needs_background": "light"
          }
        }
      ]
    },
    {
      "cell_type": "code",
      "metadata": {
        "colab": {
          "base_uri": "https://localhost:8080/",
          "height": 282
        },
        "id": "RfA3TdGCWWQL",
        "outputId": "72a30afa-770a-47ed-f122-c31c38ed6028"
      },
      "source": [
        "fig,ax = plt.subplots()\n",
        "\n",
        "ax.scatter(df_chl[blue_rrs]/df_chl[green_rrs], df_chl[chl])"
      ],
      "execution_count": 42,
      "outputs": [
        {
          "output_type": "execute_result",
          "data": {
            "text/plain": [
              "<matplotlib.collections.PathCollection at 0x7f1304075410>"
            ]
          },
          "metadata": {
            "tags": []
          },
          "execution_count": 42
        },
        {
          "output_type": "display_data",
          "data": {
            "image/png": "[encoded data removed]",
            "text/plain": [
              "<Figure size 432x288 with 1 Axes>"
            ]
          },
          "metadata": {
            "tags": [],
            "needs_background": "light"
          }
        }
      ]
    },
    {
      "cell_type": "code",
      "metadata": {
        "colab": {
          "base_uri": "https://localhost:8080/",
          "height": 282
        },
        "id": "qRTOr6CTWXp6",
        "outputId": "4776f6e7-7667-4fcd-f62d-651a9b2afc81"
      },
      "source": [
        "fig,ax = plt.subplots()\n",
        "\n",
        "ax.scatter(x = np.log10(df_chl[blue_rrs]/df_chl[green_rrs]), y = np.log10(df_chl[chl]))"
      ],
      "execution_count": 43,
      "outputs": [
        {
          "output_type": "execute_result",
          "data": {
            "text/plain": [
              "<matplotlib.collections.PathCollection at 0x7f13036d5110>"
            ]
          },
          "metadata": {
            "tags": []
          },
          "execution_count": 43
        },
        {
          "output_type": "display_data",
          "data": {
            "image/png": "[encoded data removed]",
            "text/plain": [
              "<Figure size 432x288 with 1 Axes>"
            ]
          },
          "metadata": {
            "tags": [],
            "needs_background": "light"
          }
        }
      ]
    },
    {
      "cell_type": "markdown",
      "metadata": {
        "id": "0h0eLQFa5JYW"
      },
      "source": [
        "### Run the polynomial regression"
      ]
    },
    {
      "cell_type": "code",
      "metadata": {
        "colab": {
          "base_uri": "https://localhost:8080/",
          "height": 410
        },
        "id": "tC8B0L0nNy9I",
        "outputId": "9156067a-9c1f-40fd-dcd6-9010c57c7ba0"
      },
      "source": [
        "x = np.log10( df_chl[blue_rrs]/df_chl[green_rrs] )\n",
        "y = np.log10(df_chl[chl])\n",
        "\n",
        "# transforming the data to include another axis\n",
        "x = x[:, np.newaxis]\n",
        "y = y[:, np.newaxis]\n",
        "\n",
        "polynomial_features= PolynomialFeatures(degree=4, include_bias=True)\n",
        "x_poly = polynomial_features.fit_transform(x)\n",
        "\n",
        "model = LinearRegression()\n",
        "model.fit(x_poly, y)\n",
        "y_poly_pred = model.predict(x_poly)\n",
        "\n",
        "rmse = np.sqrt(mean_squared_error(y,y_poly_pred))\n",
        "r2 = r2_score(y,y_poly_pred)\n",
        "print(\"RMSE = \", rmse)\n",
        "print(\"R2 = \", r2)\n",
        "\n",
        "plt.scatter(x, y, s=10)\n",
        "# sort the values of x before line plot\n",
        "sort_axis = operator.itemgetter(0)\n",
        "sorted_zip = sorted(zip(x,y_poly_pred), key=sort_axis)\n",
        "x, y_poly_pred = zip(*sorted_zip)\n",
        "\n",
        "plt.plot(x, y_poly_pred, color='m')\n",
        "plt.ylabel('log10(chla)')\n",
        "plt.xlabel('log10(MBR)')\n",
        "plt.xlim(-0.5,1.1)\n",
        "plt.ylim(-2,2)\n",
        "plt.show()"
      ],
      "execution_count": 44,
      "outputs": [
        {
          "output_type": "stream",
          "text": [
            "/usr/local/lib/python3.7/dist-packages/ipykernel_launcher.py:5: FutureWarning: Support for multi-dimensional indexing (e.g. `obj[:, None]`) is deprecated and will be removed in a future version.  Convert to a numpy array before indexing instead.\n",
            "  \"\"\"\n",
            "/usr/local/lib/python3.7/dist-packages/ipykernel_launcher.py:6: FutureWarning: Support for multi-dimensional indexing (e.g. `obj[:, None]`) is deprecated and will be removed in a future version.  Convert to a numpy array before indexing instead.\n",
            "  \n"
          ],
          "name": "stderr"
        },
        {
          "output_type": "stream",
          "text": [
            "RMSE =  0.30414031642920103\n",
            "R2 =  0.8178755860683482\n"
          ],
          "name": "stdout"
        },
        {
          "output_type": "display_data",
          "data": {
            "image/png": "[encoded data removed]",
            "text/plain": [
              "<Figure size 432x288 with 1 Axes>"
            ]
          },
          "metadata": {
            "tags": [],
            "needs_background": "light"
          }
        }
      ]
    },
    {
      "cell_type": "code",
      "metadata": {
        "id": "wMXUt8NQJJ0-"
      },
      "source": [
        "#Correct coefs for SeaWiFS are\n",
        "# 0.3272\t-2.9940,\t2.7218,\t-1.2259,\t-0.5683"
      ],
      "execution_count": 45,
      "outputs": []
    },
    {
      "cell_type": "code",
      "metadata": {
        "colab": {
          "base_uri": "https://localhost:8080/"
        },
        "id": "ZS0rAEZ-N2CA",
        "outputId": "a92e0b02-b8ac-41c9-e47c-90e4f4664a18"
      },
      "source": [
        "model.intercept_, model.coef_"
      ],
      "execution_count": 46,
      "outputs": [
        {
          "output_type": "execute_result",
          "data": {
            "text/plain": [
              "(array([0.21918403]),\n",
              " array([[ 0.        , -2.2121782 ,  1.28636224, -0.32947542, -1.88032039]]))"
            ]
          },
          "metadata": {
            "tags": []
          },
          "execution_count": 46
        }
      ]
    },
    {
      "cell_type": "code",
      "metadata": {
        "colab": {
          "base_uri": "https://localhost:8080/"
        },
        "id": "r1venGDnOhIL",
        "outputId": "81119c12-6de8-4457-c50d-ee61a8e0a7b6"
      },
      "source": [
        "polynomial_features.get_feature_names()"
      ],
      "execution_count": 47,
      "outputs": [
        {
          "output_type": "execute_result",
          "data": {
            "text/plain": [
              "['1', 'x0', 'x0^2', 'x0^3', 'x0^4']"
            ]
          },
          "metadata": {
            "tags": []
          },
          "execution_count": 47
        }
      ]
    },
    {
      "cell_type": "code",
      "metadata": {
        "id": "uxWDHbIR1nOP"
      },
      "source": [
        ""
      ],
      "execution_count": 47,
      "outputs": []
    },
    {
      "cell_type": "markdown",
      "metadata": {
        "id": "vVnR1xUh1ou9"
      },
      "source": [
        "### Evaulate Uncertainty for Various Coefficients\n",
        "\n",
        "Using the landsat 8 OC2 bands what do we expect as for RSME and R2"
      ]
    },
    {
      "cell_type": "code",
      "metadata": {
        "id": "C5O0DM5l1r6S",
        "outputId": "de80026e-151e-48f2-ed26-ce7f8634e733",
        "colab": {
          "base_uri": "https://localhost:8080/"
        }
      },
      "source": [
        "# for the landsat 8 OC2 algorithm which most closely corresponds to the Altum/Micasense bands:\n",
        "# coefficients are 0.1977\t-1.8117\t1.9743\t-2.5635\t-0.7218\n",
        "# bands are 482\t561\n",
        "poly_func = np.poly1d([-0.7218,-2.5635,1.9743, -1.8117, 0.1977])\n",
        "poly_func"
      ],
      "execution_count": 48,
      "outputs": [
        {
          "output_type": "execute_result",
          "data": {
            "text/plain": [
              "poly1d([-0.7218, -2.5635,  1.9743, -1.8117,  0.1977])"
            ]
          },
          "metadata": {
            "tags": []
          },
          "execution_count": 48
        }
      ]
    },
    {
      "cell_type": "code",
      "metadata": {
        "id": "0HNPWvbY6yI9",
        "outputId": "23254e4e-fd6f-4a62-db7e-e558b6895a58",
        "colab": {
          "base_uri": "https://localhost:8080/"
        }
      },
      "source": [
        "y.shape"
      ],
      "execution_count": 49,
      "outputs": [
        {
          "output_type": "execute_result",
          "data": {
            "text/plain": [
              "(756, 1)"
            ]
          },
          "metadata": {
            "tags": []
          },
          "execution_count": 49
        }
      ]
    },
    {
      "cell_type": "code",
      "metadata": {
        "id": "3BRLgb88557n",
        "outputId": "99280fce-e642-4434-eba2-6f2e2f7aea75",
        "colab": {
          "base_uri": "https://localhost:8080/",
          "height": 410
        }
      },
      "source": [
        "x = np.log10( df_chl[blue_rrs]/df_chl[green_rrs] )\n",
        "y = np.log10(df_chl[chl])\n",
        "\n",
        "# transforming the data to include another axis\n",
        "x = x[:, np.newaxis]\n",
        "y = y[:, np.newaxis]\n",
        "\n",
        "y_poly_pred = poly_func(x)\n",
        "\n",
        "rmse = np.sqrt(mean_squared_error(y,y_poly_pred))\n",
        "r2 = r2_score(y,y_poly_pred)\n",
        "print(\"RMSE = \", rmse)\n",
        "print(\"R2 = \", r2)\n",
        "\n",
        "plt.scatter(x, y, s=10)\n",
        "# sort the values of x before line plot\n",
        "sort_axis = operator.itemgetter(0)\n",
        "sorted_zip = sorted(zip(x,y_poly_pred), key=sort_axis)\n",
        "x, y_poly_pred = zip(*sorted_zip)\n",
        "\n",
        "plt.plot(x, y_poly_pred, color='m')\n",
        "plt.ylabel('log10(chla)')\n",
        "plt.xlabel('log10(MBR)')\n",
        "plt.xlim(-0.5,1.1)\n",
        "plt.ylim(-2,2)\n",
        "plt.show()"
      ],
      "execution_count": 50,
      "outputs": [
        {
          "output_type": "stream",
          "text": [
            "RMSE =  0.314736707124328\n",
            "R2 =  0.8049639135527913\n"
          ],
          "name": "stdout"
        },
        {
          "output_type": "stream",
          "text": [
            "/usr/local/lib/python3.7/dist-packages/ipykernel_launcher.py:5: FutureWarning: Support for multi-dimensional indexing (e.g. `obj[:, None]`) is deprecated and will be removed in a future version.  Convert to a numpy array before indexing instead.\n",
            "  \"\"\"\n",
            "/usr/local/lib/python3.7/dist-packages/ipykernel_launcher.py:6: FutureWarning: Support for multi-dimensional indexing (e.g. `obj[:, None]`) is deprecated and will be removed in a future version.  Convert to a numpy array before indexing instead.\n",
            "  \n"
          ],
          "name": "stderr"
        },
        {
          "output_type": "display_data",
          "data": {
            "image/png": "[encoded data removed]",
            "text/plain": [
              "<Figure size 432x288 with 1 Axes>"
            ]
          },
          "metadata": {
            "tags": [],
            "needs_background": "light"
          }
        }
      ]
    },
    {
      "cell_type": "code",
      "metadata": {
        "id": "RbGHFmcg8mRJ",
        "outputId": "f789f613-6f9e-43d4-b4d0-c3c004f5fddd",
        "colab": {
          "base_uri": "https://localhost:8080/"
        }
      },
      "source": [
        "np.array(x).shape"
      ],
      "execution_count": 60,
      "outputs": [
        {
          "output_type": "execute_result",
          "data": {
            "text/plain": [
              "(756, 1)"
            ]
          },
          "metadata": {
            "tags": []
          },
          "execution_count": 60
        }
      ]
    },
    {
      "cell_type": "code",
      "metadata": {
        "id": "KeJndF738u_Z",
        "outputId": "b1d9c758-4c97-456a-eeb0-878c8ab58911",
        "colab": {
          "base_uri": "https://localhost:8080/"
        }
      },
      "source": [
        "#RMSE\n",
        "np.sqrt(mean_squared_error(10**np.array(y),10**np.array(y_poly_pred)))"
      ],
      "execution_count": 71,
      "outputs": [
        {
          "output_type": "execute_result",
          "data": {
            "text/plain": [
              "10.310379722745715"
            ]
          },
          "metadata": {
            "tags": []
          },
          "execution_count": 71
        }
      ]
    },
    {
      "cell_type": "code",
      "metadata": {
        "id": "4CirS57s6vT8",
        "outputId": "23471fae-e296-442e-a145-8705ee6f7f38",
        "colab": {
          "base_uri": "https://localhost:8080/",
          "height": 278
        }
      },
      "source": [
        "plt.plot(10**np.array(x), 10**np.array(y_poly_pred), color='m')\n",
        "plt.scatter(df_chl[blue_rrs]/df_chl[green_rrs], df_chl[chl], s=10)\n",
        "plt.ylabel('log10(chla)')\n",
        "plt.xlabel('log10(MBR)')\n",
        "#plt.xlim(-0.5,1.1)\n",
        "#plt.ylim(-2,2)\n",
        "plt.show()"
      ],
      "execution_count": 69,
      "outputs": [
        {
          "output_type": "display_data",
          "data": {
            "image/png": "[encoded data removed]",
            "text/plain": [
              "<Figure size 432x288 with 1 Axes>"
            ]
          },
          "metadata": {
            "tags": [],
            "needs_background": "light"
          }
        }
      ]
    }
  ]
}