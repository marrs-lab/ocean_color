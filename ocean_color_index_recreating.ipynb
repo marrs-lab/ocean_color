{
  "nbformat": 4,
  "nbformat_minor": 0,
  "metadata": {
    "colab": {
      "name": "ocean_color_index_recreating.ipynb",
      "provenance": [],
      "toc_visible": true,
      "authorship_tag": "ABX9TyP/6cxgDvZki5Bu26H6VNKd",
      "include_colab_link": true
    },
    "kernelspec": {
      "name": "python3",
      "display_name": "Python 3"
    }
  },
  "cells": [
    {
      "cell_type": "markdown",
      "metadata": {
        "id": "view-in-github",
        "colab_type": "text"
      },
      "source": [
        "<a href=\"https://colab.research.google.com/github/marrs-lab/ocean_color/blob/main/ocean_color_index_recreating.ipynb\" target=\"_parent\"><img src=\"https://colab.research.google.com/assets/colab-badge.svg\" alt=\"Open In Colab\"/></a>"
      ]
    },
    {
      "cell_type": "markdown",
      "metadata": {
        "id": "km_pl3Prd7x_"
      },
      "source": [
        "## NASA Color Index from NOMAD\n",
        "\n",
        "This notebook recreates the color index from Hu et al's paper *Chlorophyll-a algorithms for oligotrophic oceans: A novel approach based on three‐band reflectance difference*. https://doi.org/10.1029/2011JC007395.\n",
        "\n",
        "Author of this notebook is Patrick Gray (patrick.c.gray@duke.edu) at the Duke University Marine Lab in the Marine Robotics and Remote Sensing Lab (http://marineuas.net/)."
      ]
    },
    {
      "cell_type": "code",
      "metadata": {
        "id": "JXXRNyG1SW6C"
      },
      "source": [
        "# all data from NOMAD https://seabass.gsfc.nasa.gov/wiki/NOMAD"
      ],
      "execution_count": null,
      "outputs": []
    },
    {
      "cell_type": "code",
      "metadata": {
        "id": "ubYDdP2-KO-2"
      },
      "source": [
        "import numpy as np\n",
        "from sklearn.metrics import mean_squared_error, r2_score\n",
        "import matplotlib.pyplot as plt\n",
        "import pandas as pd\n",
        "from sklearn.linear_model import LinearRegression"
      ],
      "execution_count": 1,
      "outputs": []
    },
    {
      "cell_type": "markdown",
      "metadata": {
        "id": "Iq8unk9WWnOG"
      },
      "source": [
        "Pull in the NOMAD dataset\n",
        "\n",
        "This is just the NOMAD dataset but with all the header removed except the column names"
      ]
    },
    {
      "cell_type": "code",
      "metadata": {
        "colab": {
          "base_uri": "https://localhost:8080/",
          "height": 297
        },
        "id": "A1-FMRejMqHT",
        "outputId": "75dc7cb4-f816-4cea-e257-7e5a85dc4862"
      },
      "source": [
        "df = pd.read_csv('https://seabass.gsfc.nasa.gov/wiki/NOMAD/nomad_seabass_v2.a_2008200.txt', skiprows=list(range(0,88)) + [89,90])\n",
        "df = df.rename(columns={'/fields=year': 'year'})\n",
        "\n",
        "print(df.shape)\n",
        "df.head()"
      ],
      "execution_count": 14,
      "outputs": [
        {
          "output_type": "stream",
          "text": [
            "(4459, 217)\n"
          ],
          "name": "stdout"
        },
        {
          "output_type": "execute_result",
          "data": {
            "text/html": [
              "<div>\n",
              "<style scoped>\n",
              "    .dataframe tbody tr th:only-of-type {\n",
              "        vertical-align: middle;\n",
              "    }\n",
              "\n",
              "    .dataframe tbody tr th {\n",
              "        vertical-align: top;\n",
              "    }\n",
              "\n",
              "    .dataframe thead th {\n",
              "        text-align: right;\n",
              "    }\n",
              "</style>\n",
              "<table border=\"1\" class=\"dataframe\">\n",
              "  <thead>\n",
              "    <tr style=\"text-align: right;\">\n",
              "      <th></th>\n",
              "      <th>year</th>\n",
              "      <th>month</th>\n",
              "      <th>day</th>\n",
              "      <th>hour</th>\n",
              "      <th>minute</th>\n",
              "      <th>second</th>\n",
              "      <th>lat</th>\n",
              "      <th>lon</th>\n",
              "      <th>id</th>\n",
              "      <th>oisst</th>\n",
              "      <th>etopo2</th>\n",
              "      <th>chl</th>\n",
              "      <th>chl_a</th>\n",
              "      <th>kd405</th>\n",
              "      <th>kd411</th>\n",
              "      <th>kd443</th>\n",
              "      <th>kd455</th>\n",
              "      <th>kd465</th>\n",
              "      <th>kd489</th>\n",
              "      <th>kd510</th>\n",
              "      <th>kd520</th>\n",
              "      <th>kd530</th>\n",
              "      <th>kd550</th>\n",
              "      <th>kd555</th>\n",
              "      <th>kd560</th>\n",
              "      <th>kd565</th>\n",
              "      <th>kd570</th>\n",
              "      <th>kd590</th>\n",
              "      <th>kd619</th>\n",
              "      <th>kd625</th>\n",
              "      <th>kd665</th>\n",
              "      <th>kd670</th>\n",
              "      <th>kd683</th>\n",
              "      <th>lw405</th>\n",
              "      <th>lw411</th>\n",
              "      <th>lw443</th>\n",
              "      <th>lw455</th>\n",
              "      <th>lw465</th>\n",
              "      <th>lw489</th>\n",
              "      <th>lw510</th>\n",
              "      <th>...</th>\n",
              "      <th>bbr510</th>\n",
              "      <th>bbr514</th>\n",
              "      <th>bbr532</th>\n",
              "      <th>bbr550</th>\n",
              "      <th>bbr555</th>\n",
              "      <th>bbr589</th>\n",
              "      <th>bbr620</th>\n",
              "      <th>bbr671</th>\n",
              "      <th>bbr676</th>\n",
              "      <th>bbr870</th>\n",
              "      <th>wt</th>\n",
              "      <th>sal</th>\n",
              "      <th>poc</th>\n",
              "      <th>kpar</th>\n",
              "      <th>z_37</th>\n",
              "      <th>z_10</th>\n",
              "      <th>z_01</th>\n",
              "      <th>chlide_a</th>\n",
              "      <th>mv_chl_a</th>\n",
              "      <th>dv_chl_a</th>\n",
              "      <th>chl_c3</th>\n",
              "      <th>chl_c2</th>\n",
              "      <th>chl_c1c2</th>\n",
              "      <th>perid</th>\n",
              "      <th>but-fuco</th>\n",
              "      <th>hex-fuco</th>\n",
              "      <th>fuco</th>\n",
              "      <th>pras</th>\n",
              "      <th>viola</th>\n",
              "      <th>diadino</th>\n",
              "      <th>allo</th>\n",
              "      <th>diato</th>\n",
              "      <th>lut</th>\n",
              "      <th>zea</th>\n",
              "      <th>chl_b</th>\n",
              "      <th>beta-car</th>\n",
              "      <th>alpha-car</th>\n",
              "      <th>alpha-beta-car</th>\n",
              "      <th>flag</th>\n",
              "      <th>cruise</th>\n",
              "    </tr>\n",
              "  </thead>\n",
              "  <tbody>\n",
              "    <tr>\n",
              "      <th>0</th>\n",
              "      <td>2003</td>\n",
              "      <td>4</td>\n",
              "      <td>15</td>\n",
              "      <td>15</td>\n",
              "      <td>15</td>\n",
              "      <td>0</td>\n",
              "      <td>38.4279</td>\n",
              "      <td>-76.61</td>\n",
              "      <td>1565</td>\n",
              "      <td>3.70</td>\n",
              "      <td>0.0</td>\n",
              "      <td>38.19</td>\n",
              "      <td>-999.0</td>\n",
              "      <td>-999.0</td>\n",
              "      <td>3.9455</td>\n",
              "      <td>3.1457</td>\n",
              "      <td>2.9253</td>\n",
              "      <td>-999.0</td>\n",
              "      <td>2.1736</td>\n",
              "      <td>1.8802</td>\n",
              "      <td>-999.0</td>\n",
              "      <td>1.5514</td>\n",
              "      <td>-999.0</td>\n",
              "      <td>1.2106</td>\n",
              "      <td>-999.0</td>\n",
              "      <td>1.1004</td>\n",
              "      <td>-999.0</td>\n",
              "      <td>1.0474</td>\n",
              "      <td>-999.0</td>\n",
              "      <td>1.2063</td>\n",
              "      <td>-999.0</td>\n",
              "      <td>1.7324</td>\n",
              "      <td>1.6464</td>\n",
              "      <td>-999.0</td>\n",
              "      <td>0.129962</td>\n",
              "      <td>0.204331</td>\n",
              "      <td>0.299114</td>\n",
              "      <td>-999.0</td>\n",
              "      <td>0.452029</td>\n",
              "      <td>0.541019</td>\n",
              "      <td>...</td>\n",
              "      <td>-999.0</td>\n",
              "      <td>-999.0</td>\n",
              "      <td>-999.0</td>\n",
              "      <td>-999.0</td>\n",
              "      <td>-999.0</td>\n",
              "      <td>-999.0</td>\n",
              "      <td>-999.0</td>\n",
              "      <td>-999.0</td>\n",
              "      <td>-999.0</td>\n",
              "      <td>-999</td>\n",
              "      <td>-999.0</td>\n",
              "      <td>-999.0</td>\n",
              "      <td>-999.0</td>\n",
              "      <td>-999.0</td>\n",
              "      <td>-999.0</td>\n",
              "      <td>-999.0</td>\n",
              "      <td>-999.0</td>\n",
              "      <td>-999.0</td>\n",
              "      <td>-999.0</td>\n",
              "      <td>-999.0</td>\n",
              "      <td>-999.0</td>\n",
              "      <td>-999.0</td>\n",
              "      <td>-999.0</td>\n",
              "      <td>-999.0</td>\n",
              "      <td>-999.0</td>\n",
              "      <td>-999.0</td>\n",
              "      <td>-999.0</td>\n",
              "      <td>-999.0</td>\n",
              "      <td>-999.0</td>\n",
              "      <td>-999.0</td>\n",
              "      <td>-999.0</td>\n",
              "      <td>-999.0</td>\n",
              "      <td>-999.0</td>\n",
              "      <td>-999.0</td>\n",
              "      <td>-999.0</td>\n",
              "      <td>-999.0</td>\n",
              "      <td>-999.0</td>\n",
              "      <td>-999.0</td>\n",
              "      <td>20691</td>\n",
              "      <td>ace0301</td>\n",
              "    </tr>\n",
              "    <tr>\n",
              "      <th>1</th>\n",
              "      <td>2003</td>\n",
              "      <td>4</td>\n",
              "      <td>15</td>\n",
              "      <td>16</td>\n",
              "      <td>50</td>\n",
              "      <td>0</td>\n",
              "      <td>38.3680</td>\n",
              "      <td>-76.50</td>\n",
              "      <td>1566</td>\n",
              "      <td>3.70</td>\n",
              "      <td>0.0</td>\n",
              "      <td>35.01</td>\n",
              "      <td>-999.0</td>\n",
              "      <td>-999.0</td>\n",
              "      <td>2.5637</td>\n",
              "      <td>2.0529</td>\n",
              "      <td>1.8386</td>\n",
              "      <td>-999.0</td>\n",
              "      <td>1.4397</td>\n",
              "      <td>1.2342</td>\n",
              "      <td>-999.0</td>\n",
              "      <td>1.0148</td>\n",
              "      <td>-999.0</td>\n",
              "      <td>0.8371</td>\n",
              "      <td>-999.0</td>\n",
              "      <td>0.7567</td>\n",
              "      <td>-999.0</td>\n",
              "      <td>0.7277</td>\n",
              "      <td>-999.0</td>\n",
              "      <td>0.9150</td>\n",
              "      <td>-999.0</td>\n",
              "      <td>1.3909</td>\n",
              "      <td>1.3261</td>\n",
              "      <td>-999.0</td>\n",
              "      <td>0.120886</td>\n",
              "      <td>0.177228</td>\n",
              "      <td>0.242677</td>\n",
              "      <td>-999.0</td>\n",
              "      <td>0.315395</td>\n",
              "      <td>0.352306</td>\n",
              "      <td>...</td>\n",
              "      <td>-999.0</td>\n",
              "      <td>-999.0</td>\n",
              "      <td>-999.0</td>\n",
              "      <td>-999.0</td>\n",
              "      <td>-999.0</td>\n",
              "      <td>-999.0</td>\n",
              "      <td>-999.0</td>\n",
              "      <td>-999.0</td>\n",
              "      <td>-999.0</td>\n",
              "      <td>-999</td>\n",
              "      <td>-999.0</td>\n",
              "      <td>-999.0</td>\n",
              "      <td>-999.0</td>\n",
              "      <td>-999.0</td>\n",
              "      <td>-999.0</td>\n",
              "      <td>-999.0</td>\n",
              "      <td>-999.0</td>\n",
              "      <td>-999.0</td>\n",
              "      <td>-999.0</td>\n",
              "      <td>-999.0</td>\n",
              "      <td>-999.0</td>\n",
              "      <td>-999.0</td>\n",
              "      <td>-999.0</td>\n",
              "      <td>-999.0</td>\n",
              "      <td>-999.0</td>\n",
              "      <td>-999.0</td>\n",
              "      <td>-999.0</td>\n",
              "      <td>-999.0</td>\n",
              "      <td>-999.0</td>\n",
              "      <td>-999.0</td>\n",
              "      <td>-999.0</td>\n",
              "      <td>-999.0</td>\n",
              "      <td>-999.0</td>\n",
              "      <td>-999.0</td>\n",
              "      <td>-999.0</td>\n",
              "      <td>-999.0</td>\n",
              "      <td>-999.0</td>\n",
              "      <td>-999.0</td>\n",
              "      <td>20675</td>\n",
              "      <td>ace0301</td>\n",
              "    </tr>\n",
              "    <tr>\n",
              "      <th>2</th>\n",
              "      <td>2003</td>\n",
              "      <td>4</td>\n",
              "      <td>15</td>\n",
              "      <td>17</td>\n",
              "      <td>50</td>\n",
              "      <td>0</td>\n",
              "      <td>38.3074</td>\n",
              "      <td>-76.44</td>\n",
              "      <td>1567</td>\n",
              "      <td>3.70</td>\n",
              "      <td>1.0</td>\n",
              "      <td>26.91</td>\n",
              "      <td>-999.0</td>\n",
              "      <td>-999.0</td>\n",
              "      <td>2.1533</td>\n",
              "      <td>1.7531</td>\n",
              "      <td>1.6641</td>\n",
              "      <td>-999.0</td>\n",
              "      <td>1.2676</td>\n",
              "      <td>1.0893</td>\n",
              "      <td>-999.0</td>\n",
              "      <td>0.9170</td>\n",
              "      <td>-999.0</td>\n",
              "      <td>0.7240</td>\n",
              "      <td>-999.0</td>\n",
              "      <td>0.6587</td>\n",
              "      <td>-999.0</td>\n",
              "      <td>0.6482</td>\n",
              "      <td>-999.0</td>\n",
              "      <td>0.8208</td>\n",
              "      <td>-999.0</td>\n",
              "      <td>1.2360</td>\n",
              "      <td>1.1967</td>\n",
              "      <td>-999.0</td>\n",
              "      <td>0.111049</td>\n",
              "      <td>0.151807</td>\n",
              "      <td>0.192820</td>\n",
              "      <td>-999.0</td>\n",
              "      <td>0.269218</td>\n",
              "      <td>0.326515</td>\n",
              "      <td>...</td>\n",
              "      <td>-999.0</td>\n",
              "      <td>-999.0</td>\n",
              "      <td>-999.0</td>\n",
              "      <td>-999.0</td>\n",
              "      <td>-999.0</td>\n",
              "      <td>-999.0</td>\n",
              "      <td>-999.0</td>\n",
              "      <td>-999.0</td>\n",
              "      <td>-999.0</td>\n",
              "      <td>-999</td>\n",
              "      <td>-999.0</td>\n",
              "      <td>-999.0</td>\n",
              "      <td>-999.0</td>\n",
              "      <td>-999.0</td>\n",
              "      <td>-999.0</td>\n",
              "      <td>-999.0</td>\n",
              "      <td>-999.0</td>\n",
              "      <td>-999.0</td>\n",
              "      <td>-999.0</td>\n",
              "      <td>-999.0</td>\n",
              "      <td>-999.0</td>\n",
              "      <td>-999.0</td>\n",
              "      <td>-999.0</td>\n",
              "      <td>-999.0</td>\n",
              "      <td>-999.0</td>\n",
              "      <td>-999.0</td>\n",
              "      <td>-999.0</td>\n",
              "      <td>-999.0</td>\n",
              "      <td>-999.0</td>\n",
              "      <td>-999.0</td>\n",
              "      <td>-999.0</td>\n",
              "      <td>-999.0</td>\n",
              "      <td>-999.0</td>\n",
              "      <td>-999.0</td>\n",
              "      <td>-999.0</td>\n",
              "      <td>-999.0</td>\n",
              "      <td>-999.0</td>\n",
              "      <td>-999.0</td>\n",
              "      <td>20691</td>\n",
              "      <td>ace0301</td>\n",
              "    </tr>\n",
              "    <tr>\n",
              "      <th>3</th>\n",
              "      <td>2003</td>\n",
              "      <td>4</td>\n",
              "      <td>17</td>\n",
              "      <td>18</td>\n",
              "      <td>15</td>\n",
              "      <td>0</td>\n",
              "      <td>38.6367</td>\n",
              "      <td>-76.32</td>\n",
              "      <td>1568</td>\n",
              "      <td>3.70</td>\n",
              "      <td>3.0</td>\n",
              "      <td>47.96</td>\n",
              "      <td>-999.0</td>\n",
              "      <td>-999.0</td>\n",
              "      <td>2.6900</td>\n",
              "      <td>2.2985</td>\n",
              "      <td>2.1297</td>\n",
              "      <td>-999.0</td>\n",
              "      <td>1.6130</td>\n",
              "      <td>1.4441</td>\n",
              "      <td>-999.0</td>\n",
              "      <td>1.2004</td>\n",
              "      <td>-999.0</td>\n",
              "      <td>0.9776</td>\n",
              "      <td>-999.0</td>\n",
              "      <td>0.8857</td>\n",
              "      <td>-999.0</td>\n",
              "      <td>0.8577</td>\n",
              "      <td>-999.0</td>\n",
              "      <td>1.0546</td>\n",
              "      <td>-999.0</td>\n",
              "      <td>1.5950</td>\n",
              "      <td>1.5343</td>\n",
              "      <td>-999.0</td>\n",
              "      <td>0.051578</td>\n",
              "      <td>0.066430</td>\n",
              "      <td>0.092185</td>\n",
              "      <td>-999.0</td>\n",
              "      <td>0.121242</td>\n",
              "      <td>0.148580</td>\n",
              "      <td>...</td>\n",
              "      <td>-999.0</td>\n",
              "      <td>-999.0</td>\n",
              "      <td>-999.0</td>\n",
              "      <td>-999.0</td>\n",
              "      <td>-999.0</td>\n",
              "      <td>-999.0</td>\n",
              "      <td>-999.0</td>\n",
              "      <td>-999.0</td>\n",
              "      <td>-999.0</td>\n",
              "      <td>-999</td>\n",
              "      <td>-999.0</td>\n",
              "      <td>-999.0</td>\n",
              "      <td>-999.0</td>\n",
              "      <td>-999.0</td>\n",
              "      <td>-999.0</td>\n",
              "      <td>-999.0</td>\n",
              "      <td>-999.0</td>\n",
              "      <td>-999.0</td>\n",
              "      <td>-999.0</td>\n",
              "      <td>-999.0</td>\n",
              "      <td>-999.0</td>\n",
              "      <td>-999.0</td>\n",
              "      <td>-999.0</td>\n",
              "      <td>-999.0</td>\n",
              "      <td>-999.0</td>\n",
              "      <td>-999.0</td>\n",
              "      <td>-999.0</td>\n",
              "      <td>-999.0</td>\n",
              "      <td>-999.0</td>\n",
              "      <td>-999.0</td>\n",
              "      <td>-999.0</td>\n",
              "      <td>-999.0</td>\n",
              "      <td>-999.0</td>\n",
              "      <td>-999.0</td>\n",
              "      <td>-999.0</td>\n",
              "      <td>-999.0</td>\n",
              "      <td>-999.0</td>\n",
              "      <td>-999.0</td>\n",
              "      <td>20675</td>\n",
              "      <td>ace0301</td>\n",
              "    </tr>\n",
              "    <tr>\n",
              "      <th>4</th>\n",
              "      <td>2003</td>\n",
              "      <td>7</td>\n",
              "      <td>21</td>\n",
              "      <td>18</td>\n",
              "      <td>27</td>\n",
              "      <td>0</td>\n",
              "      <td>38.3047</td>\n",
              "      <td>-76.44</td>\n",
              "      <td>1559</td>\n",
              "      <td>22.03</td>\n",
              "      <td>1.0</td>\n",
              "      <td>23.55</td>\n",
              "      <td>-999.0</td>\n",
              "      <td>-999.0</td>\n",
              "      <td>3.0950</td>\n",
              "      <td>2.3966</td>\n",
              "      <td>2.1689</td>\n",
              "      <td>-999.0</td>\n",
              "      <td>1.6452</td>\n",
              "      <td>1.3757</td>\n",
              "      <td>-999.0</td>\n",
              "      <td>1.1533</td>\n",
              "      <td>-999.0</td>\n",
              "      <td>0.9311</td>\n",
              "      <td>-999.0</td>\n",
              "      <td>0.8597</td>\n",
              "      <td>-999.0</td>\n",
              "      <td>0.8625</td>\n",
              "      <td>-999.0</td>\n",
              "      <td>1.0355</td>\n",
              "      <td>-999.0</td>\n",
              "      <td>1.2731</td>\n",
              "      <td>1.2541</td>\n",
              "      <td>-999.0</td>\n",
              "      <td>0.056001</td>\n",
              "      <td>0.068530</td>\n",
              "      <td>0.090152</td>\n",
              "      <td>-999.0</td>\n",
              "      <td>0.108838</td>\n",
              "      <td>0.132581</td>\n",
              "      <td>...</td>\n",
              "      <td>-999.0</td>\n",
              "      <td>-999.0</td>\n",
              "      <td>-999.0</td>\n",
              "      <td>-999.0</td>\n",
              "      <td>-999.0</td>\n",
              "      <td>-999.0</td>\n",
              "      <td>-999.0</td>\n",
              "      <td>-999.0</td>\n",
              "      <td>-999.0</td>\n",
              "      <td>-999</td>\n",
              "      <td>-999.0</td>\n",
              "      <td>-999.0</td>\n",
              "      <td>-999.0</td>\n",
              "      <td>-999.0</td>\n",
              "      <td>-999.0</td>\n",
              "      <td>-999.0</td>\n",
              "      <td>-999.0</td>\n",
              "      <td>-999.0</td>\n",
              "      <td>-999.0</td>\n",
              "      <td>-999.0</td>\n",
              "      <td>-999.0</td>\n",
              "      <td>-999.0</td>\n",
              "      <td>-999.0</td>\n",
              "      <td>-999.0</td>\n",
              "      <td>-999.0</td>\n",
              "      <td>-999.0</td>\n",
              "      <td>-999.0</td>\n",
              "      <td>-999.0</td>\n",
              "      <td>-999.0</td>\n",
              "      <td>-999.0</td>\n",
              "      <td>-999.0</td>\n",
              "      <td>-999.0</td>\n",
              "      <td>-999.0</td>\n",
              "      <td>-999.0</td>\n",
              "      <td>-999.0</td>\n",
              "      <td>-999.0</td>\n",
              "      <td>-999.0</td>\n",
              "      <td>-999.0</td>\n",
              "      <td>20691</td>\n",
              "      <td>ace0302</td>\n",
              "    </tr>\n",
              "  </tbody>\n",
              "</table>\n",
              "<p>5 rows × 217 columns</p>\n",
              "</div>"
            ],
            "text/plain": [
              "   year  month  day  hour  ...  alpha-car  alpha-beta-car   flag   cruise\n",
              "0  2003      4   15    15  ...     -999.0          -999.0  20691  ace0301\n",
              "1  2003      4   15    16  ...     -999.0          -999.0  20675  ace0301\n",
              "2  2003      4   15    17  ...     -999.0          -999.0  20691  ace0301\n",
              "3  2003      4   17    18  ...     -999.0          -999.0  20675  ace0301\n",
              "4  2003      7   21    18  ...     -999.0          -999.0  20691  ace0302\n",
              "\n",
              "[5 rows x 217 columns]"
            ]
          },
          "metadata": {
            "tags": []
          },
          "execution_count": 14
        }
      ]
    },
    {
      "cell_type": "markdown",
      "metadata": {
        "id": "g1BJCZT0YSU-"
      },
      "source": [
        "Assign the specific wavelengths we'll be using"
      ]
    },
    {
      "cell_type": "code",
      "metadata": {
        "id": "AGlE1TMH1eSm"
      },
      "source": [
        "blue_lw =   'lw443'\n",
        "blue_es =   'es443'\n",
        "blue_rrs =  'rrs443'\n",
        "\n",
        "green_lw =  'lw555'\n",
        "green_es =  'es555'\n",
        "green_rrs = 'rrs555'\n",
        "\n",
        "red_lw =    'lw670'\n",
        "red_es =    'es670'\n",
        "red_rrs =   'rrs670'\n",
        "\n"
      ],
      "execution_count": 15,
      "outputs": []
    },
    {
      "cell_type": "markdown",
      "metadata": {
        "id": "HwO4B1QHOvTo"
      },
      "source": [
        "This is a function that creates a new column called 'chl_merged' that uses both HPLC and flu but prioritizes HPLC when available. The Hu et al paper only uses HPLC chla data which is the default here but it is nice to have both for experimenting.\n"
      ]
    },
    {
      "cell_type": "code",
      "metadata": {
        "id": "YYdsYFSFaSSE"
      },
      "source": [
        "def chl_fcn(row):\n",
        "   if row['chl_a'] != -999 :\n",
        "      return (row['chl_a']) # HPLC\n",
        "   else:\n",
        "     return (row['chl']) # flu\n",
        "\n",
        "df['chl_merge'] = df.apply(lambda row: chl_fcn(row), axis=1)\n",
        "\n",
        "# whether to use only HPLC or merged chl\n",
        "# Hu et al 2012 only use HPLC which is chl_a\n",
        "chl = 'chl_a' # 'chl_merge'"
      ],
      "execution_count": 17,
      "outputs": []
    },
    {
      "cell_type": "markdown",
      "metadata": {
        "id": "b9gClMP_YYm5"
      },
      "source": [
        "Filter the data to match Hu et al 2012 "
      ]
    },
    {
      "cell_type": "code",
      "metadata": {
        "colab": {
          "base_uri": "https://localhost:8080/"
        },
        "id": "WtcqnySpuZCx",
        "outputId": "6bb308bc-df81-4279-de88-989b97503641"
      },
      "source": [
        "# make a copy to subset\n",
        "df_chl = df.copy()\n",
        "\n",
        "# create the rrs columns\n",
        "df_chl[blue_rrs] = df_chl[blue_lw]/df_chl[blue_es]\n",
        "df_chl[green_rrs] = df_chl[green_lw]/df_chl[green_es]\n",
        "df_chl[red_rrs] = df_chl[red_lw]/df_chl[red_es]\n",
        "\n",
        "# subset to delete any measurements that are missing\n",
        "# filter to ensure all the SeaWiFS bands are present\n",
        "df_chl = df_chl[df_chl['lw443'] != -999]\n",
        "df_chl = df_chl[df_chl['lw555'] != -999]\n",
        "df_chl = df_chl[df_chl['lw670'] != -999]\n",
        "df_chl = df_chl[df_chl['es443'] != -999]\n",
        "df_chl = df_chl[df_chl['es555'] != -999]\n",
        "df_chl = df_chl[df_chl['es670'] != -999]\n",
        "df_chl = df_chl[df_chl['lat'] != -999]\n",
        "df_chl = df_chl[df_chl['etopo2'] != -999]\n",
        "df_chl = df_chl[df_chl['lw411'] != -999]\n",
        "df_chl = df_chl[df_chl['es411'] != -999]\n",
        "df_chl = df_chl[df_chl['lw489'] != -999]\n",
        "df_chl = df_chl[df_chl['es489'] != -999]\n",
        "df_chl = df_chl[df_chl['lw510'] != -999]\n",
        "df_chl = df_chl[df_chl['es510'] != -999]\n",
        "\n",
        "df_chl = df_chl[df_chl[chl] != -999]\n",
        "\n",
        "# subset to only rows that were deeper than 30m\n",
        "df_chl = df_chl[df_chl['etopo2'] > 30]\n",
        "\n",
        "# subset to lat between 60N and 60S\n",
        "df_chl = df_chl[(df_chl['lat'] < 60) & (df_chl['lat'] > -60)]\n",
        "\n",
        "print(\"Number of rows remaning after filters: \", len(df_chl))"
      ],
      "execution_count": 18,
      "outputs": [
        {
          "output_type": "stream",
          "text": [
            "Number of rows remaning after filters:  136\n"
          ],
          "name": "stdout"
        }
      ]
    },
    {
      "cell_type": "code",
      "metadata": {
        "colab": {
          "base_uri": "https://localhost:8080/",
          "height": 77
        },
        "id": "Cwlpd7dyviT2",
        "outputId": "cc8d0a7d-a94e-4e1a-a5c4-2aa6c7ddd398"
      },
      "source": [
        "# there is one row that has a red Rrs of 0 which was suspicious but I assume just too low for the instrument to measure\n",
        "df_chl[df_chl[red_rrs] <= 0.0][[red_es, red_lw, green_lw, blue_lw, chl]]"
      ],
      "execution_count": 19,
      "outputs": [
        {
          "output_type": "execute_result",
          "data": {
            "text/html": [
              "<div>\n",
              "<style scoped>\n",
              "    .dataframe tbody tr th:only-of-type {\n",
              "        vertical-align: middle;\n",
              "    }\n",
              "\n",
              "    .dataframe tbody tr th {\n",
              "        vertical-align: top;\n",
              "    }\n",
              "\n",
              "    .dataframe thead th {\n",
              "        text-align: right;\n",
              "    }\n",
              "</style>\n",
              "<table border=\"1\" class=\"dataframe\">\n",
              "  <thead>\n",
              "    <tr style=\"text-align: right;\">\n",
              "      <th></th>\n",
              "      <th>es670</th>\n",
              "      <th>lw670</th>\n",
              "      <th>lw555</th>\n",
              "      <th>lw443</th>\n",
              "      <th>chl_a</th>\n",
              "    </tr>\n",
              "  </thead>\n",
              "  <tbody>\n",
              "    <tr>\n",
              "      <th>1125</th>\n",
              "      <td>93.047</td>\n",
              "      <td>0.0</td>\n",
              "      <td>0.0966</td>\n",
              "      <td>0.5361</td>\n",
              "      <td>0.134</td>\n",
              "    </tr>\n",
              "  </tbody>\n",
              "</table>\n",
              "</div>"
            ],
            "text/plain": [
              "       es670  lw670   lw555   lw443  chl_a\n",
              "1125  93.047    0.0  0.0966  0.5361  0.134"
            ]
          },
          "metadata": {
            "tags": []
          },
          "execution_count": 19
        }
      ]
    },
    {
      "cell_type": "markdown",
      "metadata": {
        "id": "9qXuWLcSiBMx"
      },
      "source": [
        "### Where are these measurements?\n",
        "\n",
        "Pull in geopandas to make plotting on a world map easier."
      ]
    },
    {
      "cell_type": "code",
      "metadata": {
        "id": "psHJYgXQi3T9"
      },
      "source": [
        "! pip install geopandas"
      ],
      "execution_count": null,
      "outputs": []
    },
    {
      "cell_type": "code",
      "metadata": {
        "colab": {
          "base_uri": "https://localhost:8080/",
          "height": 323
        },
        "id": "XlQZrVN6iBUY",
        "outputId": "1f401342-6926-4635-ede9-5011d06d336f"
      },
      "source": [
        "import geopandas as gpd\n",
        "\n",
        "gdf = gpd.GeoDataFrame(\n",
        "    df_chl, geometry=gpd.points_from_xy(x=df_chl.lon, y=df_chl.lat)\n",
        ")\n",
        "world = gpd.read_file(gpd.datasets.get_path('naturalearth_lowres'))\n",
        "\n",
        "fig, ax = plt.subplots(figsize=(9,14))\n",
        "world.plot(ax=ax)\n",
        "gdf.plot(color='black',markersize=20,alpha=.3,ax=ax)\n",
        "ax.set_title('HPLC chla locations for algorithm development')"
      ],
      "execution_count": 53,
      "outputs": [
        {
          "output_type": "execute_result",
          "data": {
            "text/plain": [
              "Text(0.5, 1.0, 'HPLC chla locations for algorithm development')"
            ]
          },
          "metadata": {
            "tags": []
          },
          "execution_count": 53
        },
        {
          "output_type": "display_data",
          "data": {
            "image/png": "[encoded data removed]",
            "text/plain": [
              "<Figure size 648x1008 with 1 Axes>"
            ]
          },
          "metadata": {
            "tags": [],
            "needs_background": "light"
          }
        }
      ]
    },
    {
      "cell_type": "markdown",
      "metadata": {
        "id": "uGL8-FxjiCYm"
      },
      "source": [
        "### Calculate the Color Index"
      ]
    },
    {
      "cell_type": "code",
      "metadata": {
        "id": "GjTt_0YcTlsG"
      },
      "source": [
        "CI = df_chl[green_rrs] - ((df_chl[blue_rrs]) + (555 - 443)/(670 - 443) * (df_chl[red_rrs] - df_chl[blue_rrs]))"
      ],
      "execution_count": 22,
      "outputs": []
    },
    {
      "cell_type": "markdown",
      "metadata": {
        "id": "E8uOu09ngE_p"
      },
      "source": [
        "Make a plot that looks roughly like figure 3b from Hu et al\n",
        "\n"
      ]
    },
    {
      "cell_type": "code",
      "metadata": {
        "colab": {
          "base_uri": "https://localhost:8080/",
          "height": 412
        },
        "id": "jlEDFe00bN7W",
        "outputId": "e6609eac-33a5-4cf1-b630-ed18ee45cb21"
      },
      "source": [
        "fig, ax = plt.subplots(figsize=(12,6))\n",
        "\n",
        "ax.scatter(CI, df_chl[chl])\n",
        "ax.set_xlim(-0.008,.008)\n",
        "ax.axvline(-.0005, linestyle='--') # this is the cutoff the paper uses for the CI\n",
        "ax.set_ylim(0.01, 100)\n",
        "ax.set_yscale('log')\n",
        "ax.set_xlabel('color index')\n",
        "ax.set_ylabel(chl)"
      ],
      "execution_count": 44,
      "outputs": [
        {
          "output_type": "execute_result",
          "data": {
            "text/plain": [
              "Text(0, 0.5, 'chl_a')"
            ]
          },
          "metadata": {
            "tags": []
          },
          "execution_count": 44
        },
        {
          "output_type": "display_data",
          "data": {
            "image/png": "[encoded data removed]",
            "text/plain": [
              "<Figure size 864x432 with 1 Axes>"
            ]
          },
          "metadata": {
            "tags": [],
            "needs_background": "light"
          }
        }
      ]
    },
    {
      "cell_type": "markdown",
      "metadata": {
        "id": "lAnolhtbgaS0"
      },
      "source": [
        "Cut out all rows that have a color index above -0.0005"
      ]
    },
    {
      "cell_type": "code",
      "metadata": {
        "id": "cGYeLZcNjSre",
        "colab": {
          "base_uri": "https://localhost:8080/"
        },
        "outputId": "378312e7-d86d-44f5-f1d8-f9553c7831e9"
      },
      "source": [
        "CI_subset = np.array(CI[CI <= -0.0005])\n",
        "chla_subset = np.array(df_chl[CI <= -0.0005][chl])\n",
        "\n",
        "# how many do we have after this subsetting?\n",
        "CI_subset.shape"
      ],
      "execution_count": 24,
      "outputs": [
        {
          "output_type": "execute_result",
          "data": {
            "text/plain": [
              "(50,)"
            ]
          },
          "metadata": {
            "tags": []
          },
          "execution_count": 24
        }
      ]
    },
    {
      "cell_type": "markdown",
      "metadata": {
        "id": "7Q3LqwlBlAtG"
      },
      "source": [
        "Log transform chlorophyll"
      ]
    },
    {
      "cell_type": "code",
      "metadata": {
        "id": "3Jv3qwRFkhkA"
      },
      "source": [
        "log_chla_subset = np.log10(chla_subset)"
      ],
      "execution_count": 25,
      "outputs": []
    },
    {
      "cell_type": "markdown",
      "metadata": {
        "id": "erUqkXoVlCIH"
      },
      "source": [
        "### Run linear and nonlinear regressions\n",
        "\n",
        "Linear"
      ]
    },
    {
      "cell_type": "code",
      "metadata": {
        "colab": {
          "base_uri": "https://localhost:8080/",
          "height": 294
        },
        "id": "8yInxEYuzJzI",
        "outputId": "04091b41-9f58-4d42-fcf8-9f8a11560407"
      },
      "source": [
        "x = CI_subset\n",
        "y = chla_subset\n",
        "\n",
        "# Fitting Linear Regression to the dataset \n",
        "from sklearn.linear_model import LinearRegression \n",
        "lin = LinearRegression() \n",
        "\n",
        "lin.fit(x.reshape(-1,1), y) \n",
        "\n",
        "y_pred = lin.predict(x.reshape(-1,1))\n",
        "\n",
        "# Visualising the Linear Regression results \n",
        "plt.scatter(x, y, color = 'blue') \n",
        "  \n",
        "plt.plot(x, y_pred, color = 'red') \n",
        "plt.title('Linear Regression') \n",
        "plt.xlabel('Color Index') \n",
        "plt.ylabel(chl) \n",
        "  \n",
        "plt.show() "
      ],
      "execution_count": 45,
      "outputs": [
        {
          "output_type": "display_data",
          "data": {
            "image/png": "[encoded data removed]",
            "text/plain": [
              "<Figure size 432x288 with 1 Axes>"
            ]
          },
          "metadata": {
            "tags": [],
            "needs_background": "light"
          }
        }
      ]
    },
    {
      "cell_type": "code",
      "metadata": {
        "colab": {
          "base_uri": "https://localhost:8080/"
        },
        "id": "yPsQmsFFPqnG",
        "outputId": "effe5f66-6193-4787-cbc0-9f61c4392cea"
      },
      "source": [
        "lin.intercept_, lin.coef_"
      ],
      "execution_count": 46,
      "outputs": [
        {
          "output_type": "execute_result",
          "data": {
            "text/plain": [
              "(0.21532765396239648, array([35.04891849]))"
            ]
          },
          "metadata": {
            "tags": []
          },
          "execution_count": 46
        }
      ]
    },
    {
      "cell_type": "code",
      "metadata": {
        "colab": {
          "base_uri": "https://localhost:8080/"
        },
        "id": "W7lCy5UdXP_s",
        "outputId": "4bb4645f-c34c-4548-d1c6-1dbdfcd052c9"
      },
      "source": [
        "r2 = r2_score(y, y_pred)\n",
        "rms = np.sqrt(np.mean(np.square(((y - y_pred) / y)), axis=0))\n",
        "\n",
        "print('R2 = ', r2)\n",
        "print('RMS = ', rms)"
      ],
      "execution_count": 47,
      "outputs": [
        {
          "output_type": "stream",
          "text": [
            "R2 =  0.7842489078333545\n",
            "RMS =  0.4942163244893365\n"
          ],
          "name": "stdout"
        }
      ]
    },
    {
      "cell_type": "markdown",
      "metadata": {
        "id": "2y2vAiElli7G"
      },
      "source": [
        "Nonlinear Regression (done on the log transformed chl-a)"
      ]
    },
    {
      "cell_type": "code",
      "metadata": {
        "colab": {
          "base_uri": "https://localhost:8080/",
          "height": 294
        },
        "id": "Kw8UsNQ0lSQ4",
        "outputId": "91815105-f690-452b-8276-1ef453976322"
      },
      "source": [
        "x = CI_subset\n",
        "y = log_chla_subset\n",
        "\n",
        "# Fitting Linear Regression to the dataset \n",
        "from sklearn.linear_model import LinearRegression \n",
        "lin = LinearRegression() \n",
        "\n",
        "lin.fit(x.reshape(-1,1), y) \n",
        "\n",
        "y_pred = lin.predict(x.reshape(-1,1))\n",
        "\n",
        "# Visualising the Linear Regression results \n",
        "plt.scatter(x, y, color = 'blue') \n",
        "  \n",
        "plt.plot(x, y_pred, color = 'red') \n",
        "plt.title('Nonlinear Regression') \n",
        "plt.xlabel('Color Index') \n",
        "plt.ylabel('log10(chl)') \n",
        "  \n",
        "plt.show() "
      ],
      "execution_count": 50,
      "outputs": [
        {
          "output_type": "display_data",
          "data": {
            "image/png": "[encoded data removed]",
            "text/plain": [
              "<Figure size 432x288 with 1 Axes>"
            ]
          },
          "metadata": {
            "tags": [],
            "needs_background": "light"
          }
        }
      ]
    },
    {
      "cell_type": "markdown",
      "metadata": {
        "id": "FYezsyF-luMH"
      },
      "source": [
        "These are the exact same coefficients as determined in the Hu et al paper"
      ]
    },
    {
      "cell_type": "code",
      "metadata": {
        "colab": {
          "base_uri": "https://localhost:8080/"
        },
        "id": "0ElytZMelsWZ",
        "outputId": "507a209f-2208-4323-f4f7-046c000e5d29"
      },
      "source": [
        "lin.intercept_, lin.coef_"
      ],
      "execution_count": 31,
      "outputs": [
        {
          "output_type": "execute_result",
          "data": {
            "text/plain": [
              "(-0.49094242118012077, array([191.65891924]))"
            ]
          },
          "metadata": {
            "tags": []
          },
          "execution_count": 31
        }
      ]
    },
    {
      "cell_type": "markdown",
      "metadata": {
        "id": "c3q7TRNkmn_t"
      },
      "source": [
        "What is the R2 and the RMS?"
      ]
    },
    {
      "cell_type": "code",
      "metadata": {
        "colab": {
          "base_uri": "https://localhost:8080/"
        },
        "id": "daq1fOWEmNyI",
        "outputId": "51a288ff-cc9b-40b4-e972-a8aedf6e3b9d"
      },
      "source": [
        "r2 = r2_score(y, y_pred)\n",
        "rms = np.sqrt(np.mean(np.square(((10**y - 10**y_pred) / 10**y)), axis=0))\n",
        "\n",
        "print('R2 = ', r2)\n",
        "print('RMS = ', rms)"
      ],
      "execution_count": 32,
      "outputs": [
        {
          "output_type": "stream",
          "text": [
            "R2 =  0.9515297407185628\n",
            "RMS =  0.16515631505918116\n"
          ],
          "name": "stdout"
        }
      ]
    },
    {
      "cell_type": "markdown",
      "metadata": {
        "id": "_5d1VZJ0l0rN"
      },
      "source": [
        "Calculate the ChlCI (CI based chl estimates) using these coefficients:"
      ]
    },
    {
      "cell_type": "code",
      "metadata": {
        "id": "RNI6m6CqkVxK"
      },
      "source": [
        "ChlCI = 10**(lin.intercept_ + lin.coef_*CI_subset)"
      ],
      "execution_count": 33,
      "outputs": []
    },
    {
      "cell_type": "markdown",
      "metadata": {
        "id": "w56Qb-Uen8g1"
      },
      "source": [
        "Check how good the predictions look along a linear relationship"
      ]
    },
    {
      "cell_type": "code",
      "metadata": {
        "colab": {
          "base_uri": "https://localhost:8080/",
          "height": 514
        },
        "id": "TfR9l7cUb9Ao",
        "outputId": "19c327d7-2559-4fad-9ab0-27d4e577829b"
      },
      "source": [
        "fig, ax = plt.subplots(figsize=(8,8))\n",
        "ax.scatter(chla_subset, ChlCI, color = 'blue') \n",
        "\n",
        "ax.plot([0,.25],[0,.25], color='red')\n",
        "  \n",
        "ax.set_title('Relationship between chl and ChlCI') \n",
        "ax.set_xlabel(chl) \n",
        "ax.set_ylabel('predicted chl') \n",
        "  \n",
        "fig.show() "
      ],
      "execution_count": 52,
      "outputs": [
        {
          "output_type": "display_data",
          "data": {
            "image/png": "[encoded data removed]",
            "text/plain": [
              "<Figure size 576x576 with 1 Axes>"
            ]
          },
          "metadata": {
            "tags": [],
            "needs_background": "light"
          }
        }
      ]
    },
    {
      "cell_type": "markdown",
      "metadata": {
        "id": "KVvXZT0gbBp_"
      },
      "source": [
        "Make a plot that looks roughly like figure 3b from Hu et al"
      ]
    },
    {
      "cell_type": "code",
      "metadata": {
        "id": "gFA24k9qnbBi",
        "colab": {
          "base_uri": "https://localhost:8080/",
          "height": 380
        },
        "outputId": "6685ddc6-5d3c-471c-df60-803d3c6a97a9"
      },
      "source": [
        "fig, ax = plt.subplots(figsize=(12,6))\n",
        "\n",
        "ax.scatter(CI, df_chl[chl], color='white', edgecolors='black')\n",
        "ax.scatter(CI[CI < -0.0005], df_chl[chl][CI < -0.0005], color='green')\n",
        "\n",
        "ax.set_xlim(-0.008,.008)\n",
        "ax.axvline(-.0005, linestyle='--', color='black')\n",
        "ax.axhline(10**(lin.intercept_ + lin.coef_*(-0.0005)), linestyle='--', color='black')\n",
        "ax.set_ylim(0.01, 100)\n",
        "ax.set_yscale('log')"
      ],
      "execution_count": 41,
      "outputs": [
        {
          "output_type": "display_data",
          "data": {
            "image/png": "[encoded data removed]",
            "text/plain": [
              "<Figure size 864x432 with 1 Axes>"
            ]
          },
          "metadata": {
            "tags": [],
            "needs_background": "light"
          }
        }
      ]
    }
  ]
}